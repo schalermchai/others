{
 "cells": [
  {
   "cell_type": "code",
   "execution_count": 57,
   "metadata": {},
   "outputs": [],
   "source": [
    ">>> from statistics import mode"
   ]
  },
  {
   "cell_type": "code",
   "execution_count": 62,
   "metadata": {},
   "outputs": [
    {
     "name": "stdin",
     "output_type": "stream",
     "text": [
      "please put total number (1- 100) 3\n",
      "please put string list separate with space (1- 100) 1 2 3\n"
     ]
    },
    {
     "name": "stdout",
     "output_type": "stream",
     "text": [
      "-1\n"
     ]
    }
   ],
   "source": [
    "Trigger = True\n",
    "\n",
    "#check case\n",
    "\"\"\"\n",
    "Ready to use condition\n",
    "1. total number less than 100 \n",
    "2. len of the list less than 100\n",
    "3. total number == len in the list\n",
    "\"\"\"\n",
    "\n",
    "def list_checker(total_num,input_list,limit = 100):\n",
    "    if total_num <= limit and len(input_list) == total_num: #check if total input number less than limit\n",
    "        for i in input_list: #check if number in the list breach the limit\n",
    "            if i <= limit :\n",
    "                pass\n",
    "            else:\n",
    "                return True\n",
    "                break \n",
    "        return False\n",
    "    else: pass\n",
    "    return True\n",
    "\n",
    "while Trigger:\n",
    "    total_num = int(input('please put total number (1- 100)'))\n",
    "    input_list = input('please put string list separate with space (1- 100)').strip()\n",
    "    input_list = [int(x) for x in input_list.split(' ')]\n",
    "    Trigger = list_checker(total_num,input_list)\n",
    "    \n",
    "if len(set(input_list))  == len(input_list):\n",
    "    print('-1')\n",
    "else:\n",
    "    print(mode(input_list))"
   ]
  }
 ],
 "metadata": {
  "kernelspec": {
   "display_name": "Python 3",
   "language": "python",
   "name": "python3"
  },
  "language_info": {
   "codemirror_mode": {
    "name": "ipython",
    "version": 3
   },
   "file_extension": ".py",
   "mimetype": "text/x-python",
   "name": "python",
   "nbconvert_exporter": "python",
   "pygments_lexer": "ipython3",
   "version": "3.8.3"
  }
 },
 "nbformat": 4,
 "nbformat_minor": 4
}
